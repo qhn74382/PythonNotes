{
 "cells": [
  {
   "cell_type": "code",
   "execution_count": 2,
   "metadata": {},
   "outputs": [
    {
     "name": "stdout",
     "output_type": "stream",
     "text": [
      "0 0\n",
      "0 1\n",
      "0 2\n",
      "0 3\n",
      "1 0\n",
      "1 1\n",
      "1 2\n",
      "1 3\n",
      "2 0\n",
      "2 1\n",
      "2 2\n",
      "2 3\n"
     ]
    }
   ],
   "source": [
    "for i in range(0,3):\n",
    "    for j in range(0,4):\n",
    "        print(i, j)"
   ]
  },
  {
   "cell_type": "code",
   "execution_count": 2,
   "metadata": {},
   "outputs": [
    {
     "name": "stdout",
     "output_type": "stream",
     "text": [
      "      0 \n",
      "     000 \n",
      "    00000 \n",
      "   0000000 \n",
      "  000000000 \n",
      " 00000000000 \n"
     ]
    }
   ],
   "source": [
    "p = 6\n",
    "for i in range(0, p):\n",
    "    for j in range(0,p-i):\n",
    "        print(\" \", end=\"\")\n",
    "    for k in range(0, 2*i+1):\n",
    "        print(\"0\", end=\"\")\n",
    "    print(\" \")"
   ]
  },
  {
   "cell_type": "code",
   "execution_count": 13,
   "metadata": {},
   "outputs": [
    {
     "name": "stdout",
     "output_type": "stream",
     "text": [
      "Enter the number of rows: 5\n",
      "1 \n",
      "2 3 \n",
      "4 5 6 \n",
      "7 8 9 10 \n",
      "11 12 13 14 15 \n"
     ]
    }
   ],
   "source": [
    "n = int(input('Enter the number of rows: '))\n",
    "num = 1\n",
    "\n",
    "for row in range(1, n+1):\n",
    "    for col in range(1, row+1):\n",
    "        print (num, end=\" \")\n",
    "        num += 1\n",
    "    print() #must have otherwise print on 1 line\n"
   ]
  },
  {
   "cell_type": "code",
   "execution_count": 8,
   "metadata": {},
   "outputs": [
    {
     "name": "stdout",
     "output_type": "stream",
     "text": [
      "[]\n"
     ]
    }
   ],
   "source": [
    "#Assignment 6 Prime\n",
    "prime_list = []\n",
    "\n",
    "for x in range(2, 101):\n",
    "  isPrime = True\n",
    "  for y in range(2, x):\n",
    "  #for y in range(2, int(x**0.5)+1): sq root of x to calculate prime number\n",
    "  #small change can improved performance greatly. this version is w/ Break, List, Sq Root\n",
    "    if x % y == 0:\n",
    "      isPrime = False\n",
    "      break\n",
    "  if isPrime:\n",
    "    prime_list.append(x)\n",
    "\n",
    "print(prime_list)"
   ]
  },
  {
   "cell_type": "code",
   "execution_count": null,
   "metadata": {},
   "outputs": [],
   "source": []
  }
 ],
 "metadata": {
  "kernelspec": {
   "display_name": "Python 3",
   "language": "python",
   "name": "python3"
  },
  "language_info": {
   "codemirror_mode": {
    "name": "ipython",
    "version": 3
   },
   "file_extension": ".py",
   "mimetype": "text/x-python",
   "name": "python",
   "nbconvert_exporter": "python",
   "pygments_lexer": "ipython3",
   "version": "3.7.6"
  }
 },
 "nbformat": 4,
 "nbformat_minor": 4
}
