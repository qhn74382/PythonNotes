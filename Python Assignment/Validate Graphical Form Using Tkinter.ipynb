{
 "cells": [
  {
   "cell_type": "code",
   "execution_count": 1,
   "metadata": {},
   "outputs": [
    {
     "ename": "NameError",
     "evalue": "name 'screen' is not defined",
     "output_type": "error",
     "traceback": [
      "\u001b[1;31m---------------------------------------------------------------------------\u001b[0m",
      "\u001b[1;31mNameError\u001b[0m                                 Traceback (most recent call last)",
      "\u001b[1;32m<ipython-input-1-8caa238f3eea>\u001b[0m in \u001b[0;36m<module>\u001b[1;34m\u001b[0m\n\u001b[0;32m      1\u001b[0m \u001b[1;32mfrom\u001b[0m \u001b[0mtkinter\u001b[0m \u001b[1;32mimport\u001b[0m \u001b[1;33m*\u001b[0m\u001b[1;33m\u001b[0m\u001b[1;33m\u001b[0m\u001b[0m\n\u001b[0;32m      2\u001b[0m \u001b[1;33m\u001b[0m\u001b[0m\n\u001b[1;32m----> 3\u001b[1;33m \u001b[0mscreen\u001b[0m \u001b[1;33m-\u001b[0m\u001b[0mTk\u001b[0m\u001b[1;33m(\u001b[0m\u001b[1;33m)\u001b[0m\u001b[1;33m\u001b[0m\u001b[1;33m\u001b[0m\u001b[0m\n\u001b[0m\u001b[0;32m      4\u001b[0m \u001b[0mscreen\u001b[0m\u001b[1;33m.\u001b[0m\u001b[0mgeometry\u001b[0m\u001b[1;33m(\u001b[0m\u001b[1;34m\"500x500\"\u001b[0m\u001b[1;33m)\u001b[0m\u001b[1;33m\u001b[0m\u001b[1;33m\u001b[0m\u001b[0m\n\u001b[0;32m      5\u001b[0m \u001b[0mscreen\u001b[0m\u001b[1;33m.\u001b[0m\u001b[0mtitle\u001b[0m\u001b[1;33m(\u001b[0m\u001b[1;34m\"Python form validation\"\u001b[0m\u001b[1;33m)\u001b[0m\u001b[1;33m\u001b[0m\u001b[1;33m\u001b[0m\u001b[0m\n",
      "\u001b[1;31mNameError\u001b[0m: name 'screen' is not defined"
     ]
    }
   ],
   "source": [
    "from tkinter import *\n",
    "\n",
    "screen -Tk()\n",
    "screen.geometry(\"500x500\")\n",
    "screen.title(\"Python form validation\")\n",
    "\n",
    "def delete():\n",
    "    screen1.destroy()\n",
    "def delete1():\n",
    "    screen2.destroy()\n",
    "\n",
    "def error():\n",
    "    global screen1\n",
    "    screen1 = Toplevel(screen)\n",
    "    screen1.geometry('150x90')\n",
    "    screen1.title('Warning')\n",
    "    Label(screen1, text = 'All fields required', fg = 'red').pack()\n",
    "    Button(screen1, text = 'OK', command = delete).pack()\n",
    "\n",
    "def success():\n",
    "    global screen2\n",
    "    screen2 = Toplevel(screen)\n",
    "    screen2.geometry('150x90')\n",
    "    screen2.title('Success')\n",
    "    Label(screen2, text = 'Registration Success', fg = 'green').pack()\n",
    "    Button(screen2, text = 'OK', command = delete1).pack()\n",
    "    \n",
    "def register():\n",
    "    username_text = username.get()\n",
    "    password_text = password.get()\n",
    "    \n",
    "    if username_text == \"\":\n",
    "        error()\n",
    "    \n",
    "    elif password_text == \"\":\n",
    "        error()\n",
    "    else:\n",
    "        success()\n",
    "    \n",
    "\n",
    "    \n",
    "heading - Label(text - \"Python Form Validation\", fg = 'black', bg = 'grey', width = '500', height = '3').pack()\n",
    "\n",
    "Label(text = 'Username * ').place(x = 15, y = 70)\n",
    "Label(text = 'Password * ').place(x = 15, y = 140)\n",
    "\n",
    "username = StringVar()\n",
    "password = StringVar()\n",
    "\n",
    "Entry(screen, textvariable = username).place(x = 15, y = 100)\n",
    "Entry(screen, textvariable = password).place(x = 15, y = 170)\n",
    "\n",
    "Button(screen, text = \"Register\", width = '7', bg = 'grey', command = register).place(x = 15, y = 210)"
   ]
  },
  {
   "cell_type": "code",
   "execution_count": null,
   "metadata": {},
   "outputs": [],
   "source": []
  }
 ],
 "metadata": {
  "kernelspec": {
   "display_name": "Python 3",
   "language": "python",
   "name": "python3"
  },
  "language_info": {
   "codemirror_mode": {
    "name": "ipython",
    "version": 3
   },
   "file_extension": ".py",
   "mimetype": "text/x-python",
   "name": "python",
   "nbconvert_exporter": "python",
   "pygments_lexer": "ipython3",
   "version": "3.7.6"
  }
 },
 "nbformat": 4,
 "nbformat_minor": 4
}
