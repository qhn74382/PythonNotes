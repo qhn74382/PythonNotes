{
 "cells": [
  {
   "cell_type": "code",
   "execution_count": 1,
   "metadata": {},
   "outputs": [
    {
     "name": "stdout",
     "output_type": "stream",
     "text": [
      "1  is less than 3\n",
      "2  is less than 3\n",
      "3  is less than 3\n",
      "3  is not less than 3\n"
     ]
    }
   ],
   "source": [
    "num = 0\n",
    "\n",
    "while num < 3:\n",
    "    print(num, ' is less than 3')\n",
    "    num += 1\n",
    "# print(num, ' is not less than 3')"
   ]
  },
  {
   "cell_type": "code",
   "execution_count": 4,
   "metadata": {},
   "outputs": [
    {
     "name": "stdout",
     "output_type": "stream",
     "text": [
      "Please enter a number: 4\n",
      "0\n",
      "1\n",
      "4\n",
      "9\n"
     ]
    }
   ],
   "source": [
    "number = int(input('Please enter a number: '))\n",
    "i = 0\n",
    "while i < number:\n",
    "    print(i**2)\n",
    "    i +=1\n"
   ]
  },
  {
   "cell_type": "code",
   "execution_count": 13,
   "metadata": {},
   "outputs": [
    {
     "name": "stdout",
     "output_type": "stream",
     "text": [
      "The type of {'section': 5, 'topic': 2} is <class 'dict'>\n",
      "The type of clarusway is <class 'str'>\n",
      "The type of [1, 4] is <class 'list'>\n",
      "The type of 2020 is <class 'int'>\n",
      "The type of 3.14 is <class 'float'>\n",
      "The type of (1+618j) is <class 'complex'>\n",
      "The type of False is <class 'bool'>\n",
      "The type of (10, 20) is <class 'tuple'>\n"
     ]
    }
   ],
   "source": [
    "sample_list = [{\"section\":5, \"topic\":2}, 'clarusway', [1, 4], 2020, 3.14, 1+618j, False, (10, 20)]\n",
    "\n",
    "for a in sample_list:\n",
    "    text = 'The type of {} is {}'\n",
    "    print(text.format(a, type(a)))\n",
    "    "
   ]
  },
  {
   "cell_type": "code",
   "execution_count": null,
   "metadata": {},
   "outputs": [],
   "source": [
    "age = input('Please enter your age: ')\n",
    "\n",
    "while not age.isdigit():\n",
    "    print('Wrong format. Please enter your age ')\n",
    "    age = input('Please enter your age: ')"
   ]
  },
  {
   "cell_type": "code",
   "execution_count": 1,
   "metadata": {},
   "outputs": [
    {
     "name": "stdout",
     "output_type": "stream",
     "text": [
      "Please write 2 words sentence: happy bday\n",
      "happy bday\n",
      "5\n"
     ]
    }
   ],
   "source": [
    "sentence = input('Please write 2 words sentence: ')\n",
    "\n",
    "user_list = sentence.split() # ['word1', 'word2']\n",
    "i = 0\n",
    "longest = 0\n",
    "while i <= len(user_list)-1:\n",
    "    if len(user_list[i]) > longest:\n",
    "        longest = len(user_list[i])\n",
    "    i += 1\n",
    "# print(user_inp[1])\n",
    "print(sentence, longest, sep='\\n')"
   ]
  },
  {
   "cell_type": "code",
   "execution_count": 6,
   "metadata": {},
   "outputs": [
    {
     "name": "stdout",
     "output_type": "stream",
     "text": [
      "Hello Ahmed!\n",
      "Hello Aisha!\n",
      "Hello Adam!\n",
      "Hello Joseph!\n",
      "Hello Gabriel!\n"
     ]
    }
   ],
   "source": [
    "names = ['Ahmed','Aisha','Adam','Joseph', 'Gabriel']\n",
    "\n",
    "for i in names:\n",
    "    print(f'Hello {i}!')"
   ]
  },
  {
   "cell_type": "code",
   "execution_count": 10,
   "metadata": {},
   "outputs": [
    {
     "name": "stdout",
     "output_type": "stream",
     "text": [
      "[1, 2, 3, 4, 5]\n"
     ]
    }
   ],
   "source": [
    "nums = []\n",
    "\n",
    "for i in range (1, 6):\n",
    "    nums.append(i)\n",
    "    \n",
    "print(nums)"
   ]
  },
  {
   "cell_type": "code",
   "execution_count": 11,
   "metadata": {},
   "outputs": [
    {
     "name": "stdout",
     "output_type": "stream",
     "text": [
      "c\n",
      "l\n",
      "a\n",
      "r\n",
      "u\n",
      "s\n",
      "w\n",
      "a\n",
      "y\n"
     ]
    }
   ],
   "source": [
    "course = 'clarusway'\n",
    "\n",
    "for i in course:  # this is iteratable object\n",
    "    print(i)"
   ]
  },
  {
   "cell_type": "code",
   "execution_count": 12,
   "metadata": {},
   "outputs": [
    {
     "name": "stdout",
     "output_type": "stream",
     "text": [
      "clarusway"
     ]
    }
   ],
   "source": [
    "course = 'clarusway'\n",
    "\n",
    "for i in course:  # this is iteratable object\n",
    "    print(i, end=\"\")"
   ]
  },
  {
   "cell_type": "code",
   "execution_count": 13,
   "metadata": {},
   "outputs": [
    {
     "name": "stdout",
     "output_type": "stream",
     "text": [
      "n\n",
      "a\n"
     ]
    }
   ],
   "source": [
    "user = {\n",
    "    'n': 'dan',\n",
    "    'a': 'jon'\n",
    "}\n",
    "for atr in user:\n",
    "    print(atr)"
   ]
  },
  {
   "cell_type": "code",
   "execution_count": 1,
   "metadata": {},
   "outputs": [
    {
     "ename": "AttributeError",
     "evalue": "'dict' object has no attribute 'value'",
     "output_type": "error",
     "traceback": [
      "\u001b[1;31m---------------------------------------------------------------------------\u001b[0m",
      "\u001b[1;31mAttributeError\u001b[0m                            Traceback (most recent call last)",
      "\u001b[1;32m<ipython-input-1-8dcbe2785040>\u001b[0m in \u001b[0;36m<module>\u001b[1;34m\u001b[0m\n\u001b[0;32m      3\u001b[0m     \u001b[1;34m'a'\u001b[0m\u001b[1;33m:\u001b[0m \u001b[1;34m'jon'\u001b[0m\u001b[1;33m\u001b[0m\u001b[1;33m\u001b[0m\u001b[0m\n\u001b[0;32m      4\u001b[0m }\n\u001b[1;32m----> 5\u001b[1;33m \u001b[1;32mfor\u001b[0m \u001b[0mi\u001b[0m \u001b[1;32min\u001b[0m \u001b[0muser\u001b[0m\u001b[1;33m.\u001b[0m\u001b[0mvalue\u001b[0m\u001b[1;33m:\u001b[0m\u001b[1;33m\u001b[0m\u001b[1;33m\u001b[0m\u001b[0m\n\u001b[0m\u001b[0;32m      6\u001b[0m     \u001b[0mprint\u001b[0m\u001b[1;33m(\u001b[0m\u001b[0mi\u001b[0m\u001b[1;33m,\u001b[0m \u001b[0mend\u001b[0m\u001b[1;33m=\u001b[0m\u001b[1;34m\" \"\u001b[0m\u001b[1;33m)\u001b[0m\u001b[1;33m\u001b[0m\u001b[1;33m\u001b[0m\u001b[0m\n",
      "\u001b[1;31mAttributeError\u001b[0m: 'dict' object has no attribute 'value'"
     ]
    }
   ],
   "source": [
    "user = {\n",
    "    'n': 'dan',\n",
    "    'a': 'jon'\n",
    "}\n",
    "for i in user.value():\n",
    "    print(i, end=\" \")"
   ]
  },
  {
   "cell_type": "code",
   "execution_count": 16,
   "metadata": {},
   "outputs": [
    {
     "name": "stdout",
     "output_type": "stream",
     "text": [
      "n : dan\n",
      "a : jon\n"
     ]
    }
   ],
   "source": [
    "user = {\n",
    "    'n': 'dan',\n",
    "    'a': 'jon'\n",
    "}\n",
    "for key, value in user.items(): # user.item() is creating a list of tuple\n",
    "    print(key, ':', value)"
   ]
  },
  {
   "cell_type": "code",
   "execution_count": 19,
   "metadata": {},
   "outputs": [
    {
     "name": "stdout",
     "output_type": "stream",
     "text": [
      "How many times should I say \"I love you!\"3\n",
      "I love you!\n",
      "I love you!\n",
      "I love you!\n"
     ]
    }
   ],
   "source": [
    "times = int(input('How many times should I say \"I love you!\"'))\n",
    "\n",
    "for i in range(times):\n",
    "    print(\"I love you!\")"
   ]
  },
  {
   "cell_type": "code",
   "execution_count": 26,
   "metadata": {},
   "outputs": [
    {
     "name": "stdout",
     "output_type": "stream",
     "text": [
      "Pleae enter a number between 1 - 10: 22\n",
      "Your number is not between 1-10.\n"
     ]
    }
   ],
   "source": [
    "num = int(input('Pleae enter a number between 1 - 10: '))\n",
    "\n",
    "if num in range(1, 11):\n",
    "    for i in range(11):\n",
    "        print(f'{num} x {i} = {num*i }')\n",
    "else:\n",
    "    print('Your number is not between 1-10.')"
   ]
  },
  {
   "cell_type": "code",
   "execution_count": 1,
   "metadata": {
    "scrolled": true
   },
   "outputs": [
    {
     "name": "stdout",
     "output_type": "stream",
     "text": [
      "[0, 1, 2, 3, 4, 5, 6, 7, 8, 9, 10]\n",
      "{0, 1, 2, 3, 4, 5, 6, 7, 8, 9}\n",
      "(0, 1, 2, 3, 4, 5, 6, 7, 8, 9, 10)\n",
      "range(0, 5)\n",
      "0 1 2 3 4\n",
      "10 8 6 4 2\n",
      "s e p a r a t e\n"
     ]
    }
   ],
   "source": [
    "b = list(range(11)) # range function(start, stop, step)\n",
    "print(b)\n",
    "\n",
    "a = set(range(0,10))\n",
    "print(a)\n",
    "\n",
    "c = tuple(range(11))\n",
    "print(c)\n",
    "\n",
    "print(range(5)) #it will not print the numbers in the sequence\n",
    "print(*range(5)) # the '*' seperates its elements\n",
    "print(*range(10,0,-2))\n",
    "print(*('separate'))\n"
   ]
  },
  {
   "cell_type": "code",
   "execution_count": 25,
   "metadata": {
    "scrolled": true
   },
   "outputs": [
    {
     "name": "stdout",
     "output_type": "stream",
     "text": [
      "Please enter any character: 5\n",
      "\n",
      "5\n",
      "55\n",
      "555\n",
      "5555\n",
      "55555\n",
      "555555\n",
      "5555555\n",
      "55555555\n",
      "555555555\n",
      "5555555555\n"
     ]
    }
   ],
   "source": [
    "char = input('Please enter any character: ')\n",
    "# for i in range(11):\n",
    "#     print(char*i)\n",
    "# for i in range(11,0,-1): #print the inverted the string\n",
    "#     print(char*i)\n",
    "\n",
    "for i in range(11):\n",
    "    print(char*i)\n",
    "#     print(f'{num} x {i} = {num*i }')"
   ]
  },
  {
   "cell_type": "code",
   "execution_count": 11,
   "metadata": {},
   "outputs": [
    {
     "name": "stdout",
     "output_type": "stream",
     "text": [
      "1\n",
      "22\n",
      "333\n",
      "4444\n",
      "55555\n",
      "666666\n",
      "7777777\n",
      "88888888\n",
      "999999999\n"
     ]
    }
   ],
   "source": [
    "for i in range(1,10):\n",
    "    print(i * str(i))"
   ]
  },
  {
   "cell_type": "code",
   "execution_count": 17,
   "metadata": {},
   "outputs": [
    {
     "name": "stdout",
     "output_type": "stream",
     "text": [
      "2775\n"
     ]
    }
   ],
   "source": [
    "total = 0\n",
    "for i in range(75):\n",
    "    total += i #update total everytime the loop run\n",
    "print(total)"
   ]
  },
  {
   "cell_type": "code",
   "execution_count": 2,
   "metadata": {},
   "outputs": [
    {
     "name": "stdout",
     "output_type": "stream",
     "text": [
      "10 8 6 4 2 0 -2 -4 -6 -8\n"
     ]
    }
   ],
   "source": [
    "print(*range(10, -10, -2))"
   ]
  },
  {
   "cell_type": "code",
   "execution_count": 6,
   "metadata": {},
   "outputs": [
    {
     "name": "stdout",
     "output_type": "stream",
     "text": [
      "one : 1\n",
      "two : 2\n",
      "three : 3\n",
      "four : 4\n",
      "five : 5\n"
     ]
    }
   ],
   "source": [
    "text = ('one','two','three','four','five')\n",
    "numbers = (1,2,3,4,5)\n",
    "for x, y in zip(text, numbers):\n",
    "    print(x, ':', y)"
   ]
  },
  {
   "cell_type": "code",
   "execution_count": 8,
   "metadata": {},
   "outputs": [
    {
     "name": "stdout",
     "output_type": "stream",
     "text": [
      "[1, 3, 5, 7, 9, 11, 13, 15, 17, 19]\n",
      "[0, 2, 4, 6, 8, 10, 12, 14, 16, 18]\n"
     ]
    }
   ],
   "source": [
    "odds = []\n",
    "evens = []\n",
    "for n in range(20):\n",
    "    if n % 2 == 0:\n",
    "        evens.append(n)\n",
    "    else:\n",
    "        odds.append(n)\n",
    "print(odds, evens, sep='\\n')"
   ]
  },
  {
   "cell_type": "code",
   "execution_count": 10,
   "metadata": {},
   "outputs": [
    {
     "name": "stdout",
     "output_type": "stream",
     "text": [
      "5\n",
      "5\n"
     ]
    }
   ],
   "source": [
    "numbers = (23,22,36,66,89,21,16,10,33,67)\n",
    "odds = 0\n",
    "evens = 0\n",
    "\n",
    "#23 % 2 ---> 1 ---> True\n",
    "#not (23 % 2) ---> not (1) ----> not (True) ---> False\n",
    "for n in numbers:\n",
    "    if not n % 2:\n",
    "        evens += 1\n",
    "    else: \n",
    "        odds += 1\n",
    "print(evens, odds, sep='\\n')"
   ]
  },
  {
   "cell_type": "code",
   "execution_count": 3,
   "metadata": {},
   "outputs": [
    {
     "name": "stdout",
     "output_type": "stream",
     "text": [
      "3\n"
     ]
    }
   ],
   "source": [
    "nums = ([2,1,2,3,4])\n",
    "count_even = 0\n",
    "\n",
    "for n in range(0, len(nums), 1):\n",
    "    if n % 2 == 0:\n",
    "       count_even += 1\n",
    "print(count_evens)"
   ]
  },
  {
   "cell_type": "code",
   "execution_count": 25,
   "metadata": {},
   "outputs": [
    {
     "name": "stdout",
     "output_type": "stream",
     "text": [
      "I am happy today\n",
      "I am happy everyday\n",
      "I am confident today\n",
      "I am confident everyday\n",
      "You are happy today\n",
      "You are happy everyday\n",
      "You are confident today\n",
      "You are confident everyday\n",
      "We are happy today\n",
      "We are happy everyday\n",
      "We are confident today\n",
      "We are confident everyday\n",
      "12\n"
     ]
    }
   ],
   "source": [
    "#nested loop\n",
    "#for var1 in iterable1:\n",
    "#     for var1 in iterable2:\n",
    "#         body\n",
    "person = ['I am ', 'You are ', 'We are ']\n",
    "mood = ['happy ', 'confident ']\n",
    "day = ['today', 'everyday',]\n",
    "count = 0\n",
    "for p in person:\n",
    "    for m in mood:\n",
    "        for d in day:\n",
    "            print(p + m + d)\n",
    "            count += 1\n",
    "print(count)"
   ]
  },
  {
   "cell_type": "code",
   "execution_count": 26,
   "metadata": {},
   "outputs": [
    {
     "name": "stdout",
     "output_type": "stream",
     "text": [
      "False\n"
     ]
    }
   ],
   "source": [
    "print(not (False or True))"
   ]
  },
  {
   "cell_type": "code",
   "execution_count": null,
   "metadata": {},
   "outputs": [],
   "source": [
    "# num = input('Is your number an Armstrong Number? Enter a number: ')\n",
    "\n",
    "# while not num.isdigit():\n",
    "#         print('Do not use any entries other than numeric values')\n",
    "#         num = int(input('Is your number an Armstrong Number? Enter a number: '))\n",
    "        \n",
    "# temp = num\n",
    "# n = len(str(num))\n",
    "# result = 0\n",
    "\n",
    "# while temp > 0:\n",
    "#     digit = temp % 10\n",
    "#     result += digit ** n\n",
    "#     temp //= 10    \n",
    "\n",
    "# if result == num:\n",
    "#     print(num, 'is an Armstrong number')  \n",
    "# else:\n",
    "#     print(num, 'is not an Armstrong number')\n"
   ]
  },
  {
   "cell_type": "code",
   "execution_count": 21,
   "metadata": {},
   "outputs": [
    {
     "name": "stdout",
     "output_type": "stream",
     "text": [
      "Enter your number: 4.3\n"
     ]
    }
   ],
   "source": [
    "# num = input('Enter your number: ')\n",
    "# num_float = float(num)\n",
    "# # num_str = \"\"\n",
    "\n",
    "# # if int(num) < 0:\n",
    "# #     print('Please enter a positive number')\n",
    "# #     num = input('Enter your number: ')\n",
    "# if num == num_float:\n",
    "#     print(num_float)\n",
    "#     num = input('Enter your number: ')\n",
    "\n",
    "# # while not num.isdigit():\n",
    "# #         print('Do not use any entries other than numeric values')\n",
    "# #         num = input('Enter your number: '"
   ]
  },
  {
   "cell_type": "code",
   "execution_count": null,
   "metadata": {},
   "outputs": [],
   "source": []
  }
 ],
 "metadata": {
  "kernelspec": {
   "display_name": "Python 3",
   "language": "python",
   "name": "python3"
  },
  "language_info": {
   "codemirror_mode": {
    "name": "ipython",
    "version": 3
   },
   "file_extension": ".py",
   "mimetype": "text/x-python",
   "name": "python",
   "nbconvert_exporter": "python",
   "pygments_lexer": "ipython3",
   "version": "3.7.6"
  }
 },
 "nbformat": 4,
 "nbformat_minor": 4
}
