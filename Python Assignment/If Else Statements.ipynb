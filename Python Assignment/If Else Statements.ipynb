{
 "cells": [
  {
   "cell_type": "code",
   "execution_count": 3,
   "metadata": {},
   "outputs": [
    {
     "name": "stdout",
     "output_type": "stream",
     "text": [
      "bmi: \n",
      "27.548209366391188\n",
      "John\n",
      "is overweight\n"
     ]
    }
   ],
   "source": [
    "name = \"John\"\n",
    "height_m = 1.65\n",
    "weight_kg = 75\n",
    "\n",
    "bmi = weight_kg / (height_m ** 2)\n",
    "print(\"bmi: \")\n",
    "print(bmi)\n",
    "if bmi < 25:\n",
    "    print(name)\n",
    "    print('is not overweight')\n",
    "else:\n",
    "    print(name)\n",
    "    print('is overweight')"
   ]
  },
  {
   "cell_type": "code",
   "execution_count": 5,
   "metadata": {},
   "outputs": [
    {
     "name": "stdout",
     "output_type": "stream",
     "text": [
      "Delicious\n"
     ]
    }
   ],
   "source": [
    "store = True\n",
    "minced = True\n",
    "buns = True\n",
    "lettuce = False\n",
    "pepper = True\n",
    "\n",
    "condition = store and minced and buns and (lettuce or pepper)\n",
    "#           True       True      True     (True) \n",
    "\n",
    "if condition:\n",
    "    print (\"Delicious\")"
   ]
  },
  {
   "cell_type": "code",
   "execution_count": 6,
   "metadata": {},
   "outputs": [
    {
     "name": "stdout",
     "output_type": "stream",
     "text": [
      "True\n"
     ]
    }
   ],
   "source": [
    "var1 = 3\n",
    "var2 = 4\n",
    "\n",
    "cond = var1 <= var2 #True\n",
    "print(cond)"
   ]
  },
  {
   "cell_type": "code",
   "execution_count": 8,
   "metadata": {},
   "outputs": [
    {
     "name": "stdout",
     "output_type": "stream",
     "text": [
      "{'v', 'p', 'u', 't', 'l', 'w', 'n', 'e', 'o', ' ', 's'}\n",
      "{'v', 'p', 'u', 't', 'l', 'w', 'n', 'e', 'o', ' ', 's'}\n",
      "We are equal\n"
     ]
    }
   ],
   "source": [
    "str1 = set(\"twelve plus one\")\n",
    "str2 = set(\"eleven plus two\")\n",
    "print(str1, str2, sep=\"\\n\")\n",
    "\n",
    "if str1 == str2:\n",
    "    print('We are equal!')"
   ]
  },
  {
   "cell_type": "code",
   "execution_count": null,
   "metadata": {},
   "outputs": [],
   "source": [
    "user_input = input(\"Please type yes or no: \").lower().strip()\n",
    "        # convert to lowercase and strip out all white spaces\n",
    "# print(user_input)\n",
    "# cond1 = (user_input == 'yes')\n",
    "# cond2 = (user_input == 'no')\n",
    "\n",
    "# if cond1:\n",
    "#     print(True)\n",
    "# if cond2:\n",
    "#     print(False)\n",
    "# if cond1 != True and cond2 != True:\n",
    "#     print(\"Please enter a valid answer\")"
   ]
  },
  {
   "cell_type": "code",
   "execution_count": null,
   "metadata": {},
   "outputs": [],
   "source": [
    "# user_in = int(input('Please enter a number: ')) #cast into an integer\n",
    "\n",
    "# if user_in == 1:\n",
    "#     print('This is the right selection')\n",
    "# else:\n",
    "#     print('Wrong choice! Please try again')"
   ]
  },
  {
   "cell_type": "code",
   "execution_count": 1,
   "metadata": {},
   "outputs": [
    {
     "name": "stdout",
     "output_type": "stream",
     "text": [
      "Please enter a number: 5\n",
      "Odd\n"
     ]
    }
   ],
   "source": [
    "num = int(input(\"Please enter a number: \"))\n",
    "\n",
    "if num%2 == 0:\n",
    "    print('Even')\n",
    "else:\n",
    "    print('Odd')"
   ]
  },
  {
   "cell_type": "code",
   "execution_count": 1,
   "metadata": {},
   "outputs": [
    {
     "name": "stdout",
     "output_type": "stream",
     "text": [
      "It works\n"
     ]
    }
   ],
   "source": [
    "cond = (3 > 1) and (0 < 1)\n",
    "\n",
    "if 'cond':\n",
    "    print('It works')\n",
    "else:\n",
    "    print('It did not work')\n",
    "    "
   ]
  },
  {
   "cell_type": "code",
   "execution_count": 5,
   "metadata": {},
   "outputs": [
    {
     "name": "stdout",
     "output_type": "stream",
     "text": [
      "Please enter your 1st number: 3\n",
      "Please enter your 2nd number: 5\n",
      "the larger number is 5.0\n"
     ]
    }
   ],
   "source": [
    "num1 = float(input('Please enter your 1st number: '))\n",
    "num2 = float(input('Please enter your 2nd number: '))\n",
    "\n",
    "if num1 > num2:\n",
    "    big = num1 #if True, assign num1 to 'big' variable\n",
    "else:\n",
    "    big = num2 #if False, assign num2 to 'big' variable\n",
    "print(f'the larger number is {big}')"
   ]
  },
  {
   "cell_type": "code",
   "execution_count": 14,
   "metadata": {},
   "outputs": [
    {
     "name": "stdout",
     "output_type": "stream",
     "text": [
      "True/Falseteur\n",
      "No\n"
     ]
    }
   ],
   "source": [
    "bool_val = input('True/False').title()\n",
    "\n",
    "if bool_val == 'True':\n",
    "    print('Yes')\n",
    "else:\n",
    "    print('No')"
   ]
  },
  {
   "cell_type": "code",
   "execution_count": 18,
   "metadata": {},
   "outputs": [
    {
     "name": "stdout",
     "output_type": "stream",
     "text": [
      "Please enter 1st number: 5\n",
      "Please enter 2nd number: 3\n",
      "Please enter 3rd number: 5\n",
      "Largest number is the 1st\n",
      "5.0\n"
     ]
    }
   ],
   "source": [
    "num1 = float(input('Please enter 1st number: '))\n",
    "num2 = float(input('Please enter 2nd number: '))\n",
    "num3 = float(input('Please enter 3rd number: '))\n",
    "\n",
    "if num1 >= num2 and num1 >= num3:\n",
    "    largest = num1\n",
    "    print('Largest number is the 1st')\n",
    "    \n",
    "elif num2 >= num1 and num2 >= num3:\n",
    "    largest = num2\n",
    "    print('Largest number is the 1st')\n",
    "else:\n",
    "    largest = num3\n",
    "    print('Largest number is the 1st')\n",
    "print(largest)"
   ]
  },
  {
   "cell_type": "code",
   "execution_count": 28,
   "metadata": {},
   "outputs": [
    {
     "name": "stdout",
     "output_type": "stream",
     "text": [
      "Please enter 1st number: -9\n",
      "Negative\n"
     ]
    }
   ],
   "source": [
    "num1 = int(input('Please enter 1st number: '))\n",
    "\n",
    "if num1 > 0:\n",
    "    print('Positive')\n",
    "elif num1 < 0:\n",
    "    print('Negative')\n",
    "elif num1 == 0:\n",
    "    print('Zero')"
   ]
  },
  {
   "cell_type": "code",
   "execution_count": 30,
   "metadata": {},
   "outputs": [
    {
     "name": "stdout",
     "output_type": "stream",
     "text": [
      "Please enter your score: 89\n",
      "B+\n"
     ]
    }
   ],
   "source": [
    "score = int(input('Please enter your score: '))\n",
    "if score >= 90:\n",
    "    if score >= 95:\n",
    "        result = 'A+'\n",
    "    else:\n",
    "        result = 'A'\n",
    "elif score >= 80:\n",
    "    if score >= 85:\n",
    "        result = 'B+'\n",
    "    else:\n",
    "        result = 'B'\n",
    "else:\n",
    "    result = 'Below B'\n",
    "print(result)"
   ]
  },
  {
   "cell_type": "code",
   "execution_count": 7,
   "metadata": {},
   "outputs": [
    {
     "name": "stdout",
     "output_type": "stream",
     "text": [
      "Please enter your saved amount: 99\n",
      "You must save more, keep saving!\n"
     ]
    }
   ],
   "source": [
    "ps4_price = 500\n",
    "saved_amount = int(input('Please enter your saved amount: '))\n",
    "\n",
    "\n",
    "if saved_amount > ps4_price:\n",
    "    print('Yippee! You can buy your PS4')\n",
    "    \n",
    "elif saved_amount <= ps4_price/2:\n",
    "    print('You must save more, keep saving!')\n",
    "    \n",
    "elif saved_amount > ps4_price/2:\n",
    "    print('You saved more than half, keep saving!')\n",
    "\n"
   ]
  },
  {
   "cell_type": "code",
   "execution_count": 14,
   "metadata": {},
   "outputs": [
    {
     "name": "stdout",
     "output_type": "stream",
     "text": [
      "Please enter the mark: 44\n",
      "F (Failed)\n"
     ]
    }
   ],
   "source": [
    "math_mark = int(input('Please enter the mark: '))\n",
    "\n",
    "if math_mark >= 85:\n",
    "    print('A (Excellent)')\n",
    "elif math_mark >= 70 and math_mark <= 84:\n",
    "    print('B (Good)')\n",
    "elif math_mark >= 60 and math_mark <= 69:\n",
    "    print('C (Medium)')\n",
    "elif math_mark >= 45 and math_mark <= 59:\n",
    "    print('D (Not Bad)')\n",
    "else:\n",
    "    print('F (Failed)')"
   ]
  },
  {
   "cell_type": "code",
   "execution_count": null,
   "metadata": {},
   "outputs": [],
   "source": []
  }
 ],
 "metadata": {
  "kernelspec": {
   "display_name": "Python 3",
   "language": "python",
   "name": "python3"
  },
  "language_info": {
   "codemirror_mode": {
    "name": "ipython",
    "version": 3
   },
   "file_extension": ".py",
   "mimetype": "text/x-python",
   "name": "python",
   "nbconvert_exporter": "python",
   "pygments_lexer": "ipython3",
   "version": "3.7.6"
  }
 },
 "nbformat": 4,
 "nbformat_minor": 4
}
