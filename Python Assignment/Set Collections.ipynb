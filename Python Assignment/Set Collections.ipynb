{
 "cells": [
  {
   "cell_type": "code",
   "execution_count": 1,
   "metadata": {},
   "outputs": [
    {
     "name": "stdout",
     "output_type": "stream",
     "text": [
      "{8, 2, 4, 6}\n",
      "<class 'set'>\n"
     ]
    }
   ],
   "source": [
    "my_set = {1,2,3}\n",
    "pair_nums = 2, 4, 6, 8\n",
    "my_numset = set(pair_nums)\n",
    "print(my_numset)\n",
    "print(type(my_numset))"
   ]
  },
  {
   "cell_type": "code",
   "execution_count": 2,
   "metadata": {},
   "outputs": [
    {
     "name": "stdout",
     "output_type": "stream",
     "text": [
      "set()\n",
      "<class 'set'>\n"
     ]
    }
   ],
   "source": [
    "my_newset = set() # this is how to set empty set\n",
    "print(my_newset)\n",
    "print(type(my_newset))"
   ]
  },
  {
   "cell_type": "code",
   "execution_count": 4,
   "metadata": {},
   "outputs": [
    {
     "name": "stdout",
     "output_type": "stream",
     "text": [
      "{'o', 'v', 'r', 'c'}\n",
      "['o', 'v', 'r', 'c']\n"
     ]
    }
   ],
   "source": [
    "flower_list = ['r', 'v', 'c', 'r', 'o', 'r', 'o']\n",
    "flowerset = set(flower_list)\n",
    "flower_list2 = list(flowerset)\n",
    "print(flowerset)\n",
    "print(flower_list2)"
   ]
  },
  {
   "cell_type": "code",
   "execution_count": 15,
   "metadata": {},
   "outputs": [
    {
     "name": "stdout",
     "output_type": "stream",
     "text": [
      "{'a', 'e'}\n",
      "{'a', 'e'} \n",
      "\n",
      "{'o', 'h', 'p', 'e', 'i', 'n', 'l', 'a', 'd'}\n",
      "{'o', 'h', 'p', 'e', 'i', 'n', 'l', 'a', 'd'} \n",
      "\n",
      "{'h', 'p', 'l', 'd', 'i'}\n",
      "{'h', 'p', 'l', 'd', 'i'} \n",
      "\n"
     ]
    }
   ],
   "source": [
    "a = set('philadelphia')\n",
    "b = set('dolphin')\n",
    "print(a - b)\n",
    "print(a.difference(b), '\\n')\n",
    "\n",
    "print(a | b) # pipe for unionxc\n",
    "print(a.union(b), '\\n')\n",
    "\n",
    "print(a & b) #amplesand for intersect\n",
    "print(a.intersection(b), '\\n')"
   ]
  },
  {
   "cell_type": "code",
   "execution_count": 16,
   "metadata": {},
   "outputs": [
    {
     "name": "stdout",
     "output_type": "stream",
     "text": [
      "{'4', '/', '0', '2', '1'}\n",
      "{'04/14/2020'}\n",
      "<class 'set'>\n",
      "<class 'set'>\n",
      "10\n",
      "5\n",
      "1\n"
     ]
    }
   ],
   "source": [
    "string = '04/14/2020' #10 elements in the string\n",
    "x = set('04/14/2020') #5 elements when declare set()\n",
    "y = {'04/14/2020'} #1 elements when use {}\n",
    "\n",
    "print(x, y, sep='\\n')\n",
    "print(type(x))\n",
    "print(type(y))\n",
    "print(len(string))\n",
    "print(len(x))\n",
    "print(len(y))"
   ]
  },
  {
   "cell_type": "code",
   "execution_count": 19,
   "metadata": {},
   "outputs": [
    {
     "name": "stdout",
     "output_type": "stream",
     "text": [
      "{1, 2, 3, 4, 5}\n"
     ]
    }
   ],
   "source": [
    "list1 = [1,2,3,3,3,3,4,4,5,5]\n",
    "\n",
    "unique1 = set(list1)\n",
    "# unique2 = {list1} #error (can't use {} to nest [])\n",
    "print(unique1)"
   ]
  },
  {
   "cell_type": "code",
   "execution_count": 23,
   "metadata": {},
   "outputs": [
    {
     "name": "stdout",
     "output_type": "stream",
     "text": [
      "{'o', 'h', 'W', 'n', 'g', 's', 'a', 'i', 't'}\n",
      "{'o', 'W', 'n', 'e', 'l', 'g', 'i', 't'}\n",
      "{'o', 'W', 'n', 'g', 'i', 't'}\n",
      "{'o', 'W', 'n', 'g', 'i', 't'}\n"
     ]
    }
   ],
   "source": [
    "usa_capt = set('Washington')\n",
    "nz_capt = set('Wellington')\n",
    "print(usa_capt)\n",
    "print(nz_capt)\n",
    "\n",
    "print(usa_capt & nz_capt)\n",
    "print(usa_capt.intersection(nz_capt), sep='\\n')"
   ]
  },
  {
   "cell_type": "code",
   "execution_count": 50,
   "metadata": {},
   "outputs": [
    {
     "name": "stdout",
     "output_type": "stream",
     "text": [
      "['apple', 'banana', 'cherry']\n",
      "apple\n",
      "banana\n",
      "cherry\n"
     ]
    }
   ],
   "source": [
    "thislist = [\"apple\", \"banana\", \"cherry\"]\n",
    "print(thislist)\n",
    "for x in thislist:\n",
    "  print(x)"
   ]
  },
  {
   "cell_type": "code",
   "execution_count": 51,
   "metadata": {},
   "outputs": [
    {
     "name": "stdout",
     "output_type": "stream",
     "text": [
      "['a', 'b', 'c', 1, 2, 3]\n"
     ]
    }
   ],
   "source": [
    "list1 = [\"a\", \"b\" , \"c\"]\n",
    "list2 = [1, 2, 3]\n",
    "\n",
    "for x in list2:\n",
    "  list1.append(x)\n",
    "\n",
    "print(list1)"
   ]
  },
  {
   "cell_type": "code",
   "execution_count": 65,
   "metadata": {},
   "outputs": [
    {
     "name": "stdout",
     "output_type": "stream",
     "text": [
      "The most frequent number is 3 and it was 4 times repeated\n"
     ]
    }
   ],
   "source": [
    "#most frequent number and its frequency\n",
    "a = [1,3,7,4,3,0,3,6,3]\n",
    "count = 0\n",
    "for x in a:\n",
    "    if x == 3:\n",
    "        count += 1\n",
    "string = \"The most frequent number is {} and it was {} times repeated\"\n",
    "print(string.format(x, count))"
   ]
  },
  {
   "cell_type": "code",
   "execution_count": null,
   "metadata": {},
   "outputs": [],
   "source": []
  }
 ],
 "metadata": {
  "kernelspec": {
   "display_name": "Python 3",
   "language": "python",
   "name": "python3"
  },
  "language_info": {
   "codemirror_mode": {
    "name": "ipython",
    "version": 3
   },
   "file_extension": ".py",
   "mimetype": "text/x-python",
   "name": "python",
   "nbconvert_exporter": "python",
   "pygments_lexer": "ipython3",
   "version": "3.7.6"
  }
 },
 "nbformat": 4,
 "nbformat_minor": 4
}
