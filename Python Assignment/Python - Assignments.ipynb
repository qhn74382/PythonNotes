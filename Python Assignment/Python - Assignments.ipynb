{
 "cells": [
  {
   "cell_type": "code",
   "execution_count": 9,
   "metadata": {},
   "outputs": [
    {
     "name": "stdout",
     "output_type": "stream",
     "text": [
      "Please enter a year: 2500\n",
      "False\n"
     ]
    }
   ],
   "source": [
    "year = int(input('Please enter a year: '))\n",
    "\n",
    "if year%4 == 0:\n",
    "    if year%100 == 0:\n",
    "        if year%400 == 0:\n",
    "            result = True\n",
    "        else:\n",
    "            result = False\n",
    "    else:\n",
    "        result = False\n",
    "else:\n",
    "    result = False\n",
    "print(result)"
   ]
  },
  {
   "cell_type": "code",
   "execution_count": 11,
   "metadata": {},
   "outputs": [
    {
     "name": "stdout",
     "output_type": "stream",
     "text": [
      "Please enter your name: Cici\n",
      "Hello, Cici! Incorrect name. See you later.\n"
     ]
    }
   ],
   "source": [
    "first_name = 'Quynh'\n",
    "user_inp = input('Please enter your name: ')\n",
    "\n",
    "if user_inp == first_name:\n",
    "    print(f'Hello, {user_inp}! The password is: @12')\n",
    "else:\n",
    "    print(f'Hello, {user_inp}! Incorrect name. See you later.')"
   ]
  },
  {
   "cell_type": "code",
   "execution_count": 18,
   "metadata": {},
   "outputs": [
    {
     "name": "stdout",
     "output_type": "stream",
     "text": [
      "We are estimating the risk of death from corona virus. Please answer Yes or No to the following questions\n",
      "Do you smoke cigarette? YES\n",
      "Are you 75 years old or older? YES\n",
      "Do you have a severe chronic disease? NO\n",
      "Is your immune system too weak? YES\n",
      "You are not in risky group\n"
     ]
    }
   ],
   "source": [
    "string1 = 'We are estimating the risk of death from corona virus. Please answer Yes or No to the following questions'\n",
    "print(string1)\n",
    "\n",
    "smoke = input('Do you smoke cigarette? ').lower().strip()\n",
    "age = input('Are you 75 years old or older? ').lower().strip()\n",
    "chronic = input('Do you have a severe chronic disease? ').lower().strip()\n",
    "immune = input('Is your immune system too weak? ').lower().strip()\n",
    "\n",
    "if age == 'yes' and smoke == 'yes':    \n",
    "    if chronic == 'yes':        \n",
    "        if immune == 'yes':\n",
    "            result = 'You are in risky group'\n",
    "        else:\n",
    "            result = 'You are not in risky group'\n",
    "    else:\n",
    "        result = 'You are not in risky group'\n",
    "else:\n",
    "    result = 'You are not in risky group'\n",
    "    \n",
    "print(result)"
   ]
  },
  {
   "cell_type": "code",
   "execution_count": 2,
   "metadata": {},
   "outputs": [
    {
     "name": "stdout",
     "output_type": "stream",
     "text": [
      "We are estimating the risk of death from corona virus. Please answer Yes or No to the following questions\n",
      "Do you smoke cigarette? yes\n",
      "Are you 75 years old or older? yes\n",
      "Do you have a severe chronic disease? no\n",
      "Is your immune system too weak? no\n",
      "You are not in risky group\n"
     ]
    }
   ],
   "source": [
    "string1 = 'We are estimating the risk of death from corona virus. Please answer Yes or No to the following questions'\n",
    "print(string1)\n",
    "\n",
    "smoke = input('Do you smoke cigarette? ').lower().strip()\n",
    "age = input('Are you 75 years old or older? ').lower().strip()\n",
    "chronic = input('Do you have a severe chronic disease? ').lower().strip()\n",
    "immune = input('Is your immune system too weak? ').lower().strip()\n",
    "\n",
    "if age and smoke and chronic and immune == 'yes':\n",
    "    result = 'You are in risky group'\n",
    "else:\n",
    "    result = 'You are not in risky group'\n",
    "    \n",
    "print(result)"
   ]
  },
  {
   "cell_type": "code",
   "execution_count": 5,
   "metadata": {},
   "outputs": [
    {
     "name": "stdout",
     "output_type": "stream",
     "text": [
      "C\n",
      "o\n",
      "d\n",
      "e\n"
     ]
    }
   ],
   "source": [
    "str = 'Code'\n",
    "\n",
    "for i in 'Code':\n",
    "    print(i)"
   ]
  },
  {
   "cell_type": "code",
   "execution_count": 3,
   "metadata": {},
   "outputs": [
    {
     "name": "stdout",
     "output_type": "stream",
     "text": [
      "CCoCodCode\n"
     ]
    }
   ],
   "source": [
    "str = 'Code'\n",
    "result = \"\"\n",
    "\n",
    "for i in range(0, len(str) + 1, 1):\n",
    "    result += str[0:i];\n",
    "print(result)"
   ]
  },
  {
   "cell_type": "code",
   "execution_count": null,
   "metadata": {},
   "outputs": [],
   "source": [
    "num = input('Enter a number: ')\n",
    "temp = num\n",
    "n = len(str(num))\n",
    "result = 0\n",
    "\n",
    "while temp > 0:\n",
    "    digit = temp % 10\n",
    "    result += digit ** n\n",
    "    temp //= 10    \n",
    "\n",
    "if result == num:\n",
    "    print(num, 'is an Armstrong number')  \n",
    "else:\n",
    "    print(num, 'is not an Armstrong number')"
   ]
  },
  {
   "cell_type": "code",
   "execution_count": null,
   "metadata": {},
   "outputs": [],
   "source": [
    "num = input('Enter a number: ')\n",
    "temp = 0\n",
    "n = len(str(num))\n",
    "result = 0\n",
    "\n",
    "while True:\n",
    "    if int(num) < 0:\n",
    "        print('Please enter a positive number')\n",
    "        num = input('Enter a number: ')\n",
    "    "
   ]
  },
  {
   "cell_type": "code",
   "execution_count": 1,
   "metadata": {},
   "outputs": [
    {
     "name": "stdout",
     "output_type": "stream",
     "text": [
      "Enter a number: 5\n",
      "5 is a prime number\n"
     ]
    }
   ],
   "source": [
    "#Python Assignment #4\n",
    "num = int(input('Enter a number: '))\n",
    "\n",
    "for i in range(1):\n",
    "  if num ==1:\n",
    "    print(num, 'is not a prime number')\n",
    "  elif num > 1:\n",
    "    for d in range(2, num):\n",
    "      if (num%d) == 0:\n",
    "        print(num, 'is not a prime number')\n",
    "        break\n",
    "    else:\n",
    "      print(num, 'is a prime number')"
   ]
  },
  {
   "cell_type": "code",
   "execution_count": null,
   "metadata": {},
   "outputs": [],
   "source": [
    "#Python Assignment #5\n",
    "# 1,1,2,3,5,8,13,21,34,55\n",
    "my_fib = []\n",
    "n = 0\n",
    "a = 0\n",
    "b = 1\n",
    "my_fib.append(b)\n",
    "\n",
    "for i in range(1, 10):\n",
    "  if n == 1:\n",
    "    my_fib.append(n)\n",
    "  elif n == 2:\n",
    "    my_fib.append(n)\n",
    "  c = a + b\n",
    "  a = b\n",
    "  b = c\n",
    "  my_fib.append(c)\n",
    "print(my_fib)"
   ]
  },
  {
   "cell_type": "code",
   "execution_count": null,
   "metadata": {},
   "outputs": [],
   "source": [
    "#Assignment 6 Prime Version 1\n",
    "prime_list = []\n",
    "\n",
    "for x in range(2, 101):\n",
    "  isPrime = True\n",
    "  for y in range(2, x):\n",
    "  #for y in range(2, int(x**0.5)+1): sq root of x to calculate prime number\n",
    "  #small change can improved performance greatly. this version is w/ Break, List, Sq Root\n",
    "    if x % y == 0:\n",
    "      isPrime = False\n",
    "      break\n",
    "  if isPrime:\n",
    "    prime_list.append(x)\n",
    "\n",
    "print(prime_list)"
   ]
  },
  {
   "cell_type": "code",
   "execution_count": null,
   "metadata": {},
   "outputs": [],
   "source": [
    "# Assignment 7 FizzBuz\n",
    "#range(1,101)\n",
    "# num % 3 ----> Fizz\n",
    "# num % 5 ----> Buzz\n",
    "# num % 3 and num % 5 ----> FizzBuzz\n",
    "# for loop\n",
    "# condition (if)"
   ]
  },
  {
   "cell_type": "code",
   "execution_count": 5,
   "metadata": {},
   "outputs": [
    {
     "name": "stdout",
     "output_type": "stream",
     "text": [
      "1\n",
      "2\n",
      "Fizz\n",
      "4\n",
      "FizzBuzz\n",
      "5\n",
      "Fizz\n",
      "7\n",
      "8\n",
      "Fizz\n",
      "FizzBuzz\n",
      "10\n",
      "11\n",
      "Fizz\n",
      "13\n",
      "14\n",
      "Buzz\n",
      "Fizz\n",
      "16\n",
      "17\n",
      "Fizz\n",
      "19\n",
      "FizzBuzz\n",
      "20\n",
      "Fizz\n",
      "22\n",
      "23\n",
      "Fizz\n",
      "FizzBuzz\n",
      "25\n",
      "26\n",
      "Fizz\n",
      "28\n",
      "29\n",
      "Buzz\n",
      "Fizz\n",
      "31\n",
      "32\n",
      "Fizz\n",
      "34\n",
      "FizzBuzz\n",
      "35\n",
      "Fizz\n",
      "37\n",
      "38\n",
      "Fizz\n",
      "FizzBuzz\n",
      "40\n",
      "41\n",
      "Fizz\n",
      "43\n",
      "44\n",
      "Buzz\n",
      "Fizz\n",
      "46\n",
      "47\n",
      "Fizz\n",
      "49\n",
      "FizzBuzz\n",
      "50\n",
      "Fizz\n",
      "52\n",
      "53\n",
      "Fizz\n",
      "FizzBuzz\n",
      "55\n",
      "56\n",
      "Fizz\n",
      "58\n",
      "59\n",
      "Buzz\n",
      "Fizz\n",
      "61\n",
      "62\n",
      "Fizz\n",
      "64\n",
      "FizzBuzz\n",
      "65\n",
      "Fizz\n",
      "67\n",
      "68\n",
      "Fizz\n",
      "FizzBuzz\n",
      "70\n",
      "71\n",
      "Fizz\n",
      "73\n",
      "74\n",
      "Buzz\n",
      "Fizz\n",
      "76\n",
      "77\n",
      "Fizz\n",
      "79\n",
      "FizzBuzz\n",
      "80\n",
      "Fizz\n",
      "82\n",
      "83\n",
      "Fizz\n",
      "FizzBuzz\n",
      "85\n",
      "86\n",
      "Fizz\n",
      "88\n",
      "89\n",
      "Buzz\n",
      "Fizz\n",
      "91\n",
      "92\n",
      "Fizz\n",
      "94\n",
      "FizzBuzz\n",
      "95\n",
      "Fizz\n",
      "97\n",
      "98\n",
      "Fizz\n",
      "FizzBuzz\n",
      "100\n"
     ]
    }
   ],
   "source": [
    "for num in range(1, 101):\n",
    "    if num % 3 and num % 5 == 0:\n",
    "        print('FizzBuzz')\n",
    "    elif num % 5 == 0:\n",
    "        print('Buzz')\n",
    "    if num %3 == 0:\n",
    "        print('Fizz')\n",
    "    else:\n",
    "        print(num)"
   ]
  },
  {
   "cell_type": "code",
   "execution_count": 16,
   "metadata": {
    "scrolled": true
   },
   "outputs": [
    {
     "name": "stdout",
     "output_type": "stream",
     "text": [
      "Please enter an range end point: 100\n",
      "We got 33 Fizz, 14 Buzz and 6 FizzBuzz\n"
     ]
    }
   ],
   "source": [
    "n = int(input('Please enter an range end point: '))\n",
    "num_list = []\n",
    "f, b, fb = 0, 0, 0\n",
    "for num in range(1, n+1):\n",
    "    if num % 3 == 0 and num % 5 == 0:\n",
    "#         num_list.append('FizzBuzz')\n",
    "        fb += 1\n",
    "    elif num % 5 == 0:\n",
    "#         num_list.append('Buzz')\n",
    "        b += 1\n",
    "    if num %3 == 0:\n",
    "#         num_list.append('Fizz')\n",
    "        f += 1\n",
    "#     else:\n",
    "        num_list.append(num)\n",
    "# print(num_list)\n",
    "print(f'We got {f} Fizz, {b} Buzz and {fb} FizzBuzz')"
   ]
  },
  {
   "cell_type": "code",
   "execution_count": 19,
   "metadata": {},
   "outputs": [
    {
     "name": "stdout",
     "output_type": "stream",
     "text": [
      "Please enter a range end point: 100\n",
      "[2, 3, 5, 7, 11, 13, 17, 19, 23, 29, 31, 37, 41, 43, 47, 53, 59, 61, 67, 71, 73, 79, 83, 89, 97]\n"
     ]
    }
   ],
   "source": [
    "# Assignment 6 Version 2\n",
    "# range(1, n) ----> input from user\n",
    "# smaller range\n",
    "# check and pick prime numbers: only divided by itself and 1\n",
    "# for loop and another nested for loop\n",
    "# if conditional\n",
    "# counter\n",
    "prime_list = []\n",
    "n = int(input('Please enter a range end point: '))\n",
    "\n",
    "for x in range(1, n+1):\n",
    "    count = 0\n",
    "    for y in range(1, x+1):\n",
    "        if x % y == 0:\n",
    "            count +=1\n",
    "    if count == 2:\n",
    "        prime_list.append(x)\n",
    "print(prime_list)"
   ]
  },
  {
   "cell_type": "code",
   "execution_count": null,
   "metadata": {},
   "outputs": [],
   "source": [
    "# The parameter weekday is True if it is a weekday, \n",
    "# and the parameter vacation is True if we are on vacation\n",
    "# We sleep in if it is not a weekday or we're on vacation.\n",
    "# Return True if we sleep in\n",
    "\n",
    "# not weekday or vacation ----> I sleep more\n",
    "# otherwise -----> I Have to go to work\n",
    "\n",
    "weekday = True\n",
    "vacation = False\n",
    "\n",
    "if weekday == False or vacation == True:\n",
    "    print('Sleep in')\n",
    "else:\n",
    "    print('I have to go to work')"
   ]
  },
  {
   "cell_type": "code",
   "execution_count": 7,
   "metadata": {},
   "outputs": [
    {
     "name": "stdout",
     "output_type": "stream",
     "text": [
      "Please enter a year: 2019\n",
      "2019 is a not leap year\n"
     ]
    }
   ],
   "source": [
    "# Assignment 8 Leap Year\n",
    "year = int(input('Please enter a year: '))\n",
    "\n",
    "if year%4 == 0 and year%100 != 0 or year%400 == 0:\n",
    "    print(f'{year} is a leap year')\n",
    "else:\n",
    "    print(f'{year} is a not leap year')"
   ]
  },
  {
   "cell_type": "code",
   "execution_count": 16,
   "metadata": {},
   "outputs": [
    {
     "name": "stdout",
     "output_type": "stream",
     "text": [
      "Please enter a sentence: hippo runs to us!\n",
      "{'h': 1, 'i': 1, 'p': 2, 'o': 2, ' ': 3, 'r': 1, 'u': 2, 'n': 1, 's': 2, 't': 1, '!': 1}\n"
     ]
    }
   ],
   "source": [
    "string = input('Please enter a sentence: ')\n",
    "# string = 'hippo runs to us!'\n",
    "cast_string = list(string)\n",
    "# count = len(string)\n",
    "# print(count)\n",
    "# print(cast_string)\n",
    "\n",
    "dict_string = dict()\n",
    "\n",
    "for char in cast_string:\n",
    "    if char in dict_string:\n",
    "        dict_string[char] = dict_string[char] +1\n",
    "    else:\n",
    "        dict_string[char] = 1\n",
    "#     print(char, dict_string[char])\n",
    "print(dict_string)"
   ]
  },
  {
   "cell_type": "code",
   "execution_count": null,
   "metadata": {},
   "outputs": [],
   "source": []
  }
 ],
 "metadata": {
  "kernelspec": {
   "display_name": "Python 3",
   "language": "python",
   "name": "python3"
  },
  "language_info": {
   "codemirror_mode": {
    "name": "ipython",
    "version": 3
   },
   "file_extension": ".py",
   "mimetype": "text/x-python",
   "name": "python",
   "nbconvert_exporter": "python",
   "pygments_lexer": "ipython3",
   "version": "3.7.6"
  }
 },
 "nbformat": 4,
 "nbformat_minor": 4
}
