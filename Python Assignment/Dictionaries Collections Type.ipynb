{
 "cells": [
  {
   "cell_type": "code",
   "execution_count": null,
   "metadata": {},
   "outputs": [],
   "source": [
    "# key/value pairs and curly braces\n",
    "\n",
    "item = 'something'\n",
    "\n",
    "user1_cred = {'username': 'Quynh', 'password': '123asd'}\n",
    "user2_cred = {'username': 'Tamy', 'password': '1sdfsd'}"
   ]
  },
  {
   "cell_type": "code",
   "execution_count": 1,
   "metadata": {},
   "outputs": [
    {
     "name": "stdout",
     "output_type": "stream",
     "text": [
      "{'father': 'John', 'mother': 'Macy', 'kid': 'Stacy', 'kid2': 'Karla'}\n"
     ]
    }
   ],
   "source": [
    "family = {\n",
    "    'father': 'John',\n",
    "    'mother': 'Macy',\n",
    "    'kid': 'Stacy'\n",
    "}\n",
    "family['kid2'] = \"Karla\"\n",
    "print(family)"
   ]
  },
  {
   "cell_type": "code",
   "execution_count": 4,
   "metadata": {},
   "outputs": [
    {
     "name": "stdout",
     "output_type": "stream",
     "text": [
      "{'name1': 'John', 'name2': 'Macy', 'name3': 'Stacy'}\n"
     ]
    }
   ],
   "source": [
    "family = dict(name1= 'John', name2= 'Macy', name3= 'Stacy')\n",
    "print(family)"
   ]
  },
  {
   "cell_type": "code",
   "execution_count": 10,
   "metadata": {},
   "outputs": [
    {
     "name": "stdout",
     "output_type": "stream",
     "text": [
      "[('animal', 'dog'), ('planet', 'neptune'), ('pi', 3.14), ('is_good', True)] \n",
      "\n",
      "['animal', 'planet', 'pi', 'is_good'] \n",
      "\n",
      "['dog', 'neptune', 3.14, True]\n"
     ]
    }
   ],
   "source": [
    "dict_a = {\n",
    "    'animal': 'dog',\n",
    "    'planet': 'neptune',\n",
    "    'pi': 3.14,\n",
    "    'is_good': True\n",
    "    \n",
    "}\n",
    "my_dict_item = list(dict_a.items()) #transfer item into a list\n",
    "print(my_dict_item, '\\n')\n",
    "print(list(dict_a.keys()), '\\n') #transfer keys into a list\n",
    "print(list(dict_a.values())) #transfer value into a list"
   ]
  },
  {
   "cell_type": "code",
   "execution_count": 13,
   "metadata": {},
   "outputs": [
    {
     "name": "stdout",
     "output_type": "stream",
     "text": [
      "{'planet': 'neptune', 'pi': 3.14, 'is_good': True, 'is_bad': False, 'school': 'Clarusway'}\n",
      "True\n",
      "True\n"
     ]
    }
   ],
   "source": [
    "dict_a = {\n",
    "    'animal': 'dog',\n",
    "    'planet': 'neptune',\n",
    "    'pi': 3.14,\n",
    "    'is_good': True   \n",
    "}\n",
    "dict_a['is_bad'] = False #add another value \n",
    "dict_a.update({'school': 'Clarusway'}) #add another value\n",
    "del dict_a['animal'] #delete a key value\n",
    "print(dict_a)\n",
    "print('pi' in dict_a) # check if pi is in dictionary\n",
    "print('animal' not in dict_a) #check if animal is not exist in dict\n"
   ]
  },
  {
   "cell_type": "code",
   "execution_count": 2,
   "metadata": {},
   "outputs": [
    {
     "name": "stdout",
     "output_type": "stream",
     "text": [
      "{'family1': {'name1': 'Quynh', 'name2': 'Cici', 'children': {'child1': 'Arie', 'child2': 'Athen-a'}}, 'family2': {'name1': 'QuynhN', 'name2': 'CiciN', 'children': {'child1': 'Arien', 'child2': 'Athen-an'}}}\n"
     ]
    }
   ],
   "source": [
    "nested_dict = {\n",
    "    'family1': {\n",
    "        'name1': 'Quynh',\n",
    "        'name2': 'Cici',\n",
    "    'children':{\n",
    "        'child1': 'Arie',\n",
    "        'child2': 'Athen-a'\n",
    "     }\n",
    "    },\n",
    "    \n",
    "    'family2': {\n",
    "        'name1': 'QuynhN',\n",
    "        'name2': 'CiciN',\n",
    "    'children':{\n",
    "        'child1': 'Arien',\n",
    "        'child2': 'Athen-an'\n",
    "     }\n",
    "    }\n",
    "    \n",
    "}\n",
    "print(nested_dict)"
   ]
  },
  {
   "cell_type": "code",
   "execution_count": null,
   "metadata": {},
   "outputs": [],
   "source": []
  }
 ],
 "metadata": {
  "kernelspec": {
   "display_name": "Python 3",
   "language": "python",
   "name": "python3"
  },
  "language_info": {
   "codemirror_mode": {
    "name": "ipython",
    "version": 3
   },
   "file_extension": ".py",
   "mimetype": "text/x-python",
   "name": "python",
   "nbconvert_exporter": "python",
   "pygments_lexer": "ipython3",
   "version": "3.7.6"
  }
 },
 "nbformat": 4,
 "nbformat_minor": 4
}
