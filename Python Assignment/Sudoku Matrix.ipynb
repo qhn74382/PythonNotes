{
 "cells": [
  {
   "cell_type": "code",
   "execution_count": 104,
   "metadata": {},
   "outputs": [],
   "source": [
    "from IPython.display import clear_output\n",
    "def sudoku_board(board):\n",
    "    clear_output()\n",
    "    print(\"- \"*15)\n",
    "    for i, row in enumerate(board):\n",
    "        print((\" {}  {}  {} | \"*3).format(*[x for x in row]))\n",
    "        if i == 8:\n",
    "            print(\"- \"*15)\n",
    "        elif i % 3 == 2:\n",
    "            print(\"- \"*15)\n",
    "        else:\n",
    "            print(\"\")"
   ]
  },
  {
   "cell_type": "code",
   "execution_count": 105,
   "metadata": {},
   "outputs": [],
   "source": [
    "board = [\n",
    "    [0, 0, 0, 0, 6, 4, 0, 0, 0],\n",
    "    [7, 0, 0, 0, 0, 0, 3, 9, 0],\n",
    "    [8, 0, 0, 0, 0, 0, 0, 0, 0],\n",
    "    [0, 0, 0, 5, 0, 2, 0, 6, 0],\n",
    "    [0, 8, 0, 4, 0, 0, 0, 0, 0],\n",
    "    [3, 5, 0, 6, 0, 0, 0, 7, 0],\n",
    "    [0, 0, 2, 0, 0, 0, 1, 0, 3],\n",
    "    [0, 0, 1, 0, 5, 9, 0, 0, 0],\n",
    "    [0, 0, 0, 0, 0, 0, 7, 0, 0]\n",
    "]"
   ]
  },
  {
   "cell_type": "code",
   "execution_count": 106,
   "metadata": {},
   "outputs": [
    {
     "name": "stdout",
     "output_type": "stream",
     "text": [
      "- - - - - - - - - - - - - - - \n",
      " 0  0  0 |  0  6  4 |  0  0  0 | \n",
      "\n",
      " 7  0  0 |  0  0  0 |  3  9  0 | \n",
      "\n",
      " 8  0  0 |  0  0  0 |  0  0  0 | \n",
      "- - - - - - - - - - - - - - - \n",
      " 0  0  0 |  5  0  2 |  0  6  0 | \n",
      "\n",
      " 0  8  0 |  4  0  0 |  0  0  0 | \n",
      "\n",
      " 3  5  0 |  6  0  0 |  0  7  0 | \n",
      "- - - - - - - - - - - - - - - \n",
      " 0  0  2 |  0  0  0 |  1  0  3 | \n",
      "\n",
      " 0  0  1 |  0  5  9 |  0  0  0 | \n",
      "\n",
      " 0  0  0 |  0  0  0 |  7  0  0 | \n",
      "- - - - - - - - - - - - - - - \n"
     ]
    }
   ],
   "source": [
    "sudoku_board(board)"
   ]
  },
  {
   "cell_type": "code",
   "execution_count": null,
   "metadata": {},
   "outputs": [],
   "source": []
  }
 ],
 "metadata": {
  "kernelspec": {
   "display_name": "Python 3",
   "language": "python",
   "name": "python3"
  },
  "language_info": {
   "codemirror_mode": {
    "name": "ipython",
    "version": 3
   },
   "file_extension": ".py",
   "mimetype": "text/x-python",
   "name": "python",
   "nbconvert_exporter": "python",
   "pygments_lexer": "ipython3",
   "version": "3.7.6"
  }
 },
 "nbformat": 4,
 "nbformat_minor": 4
}
